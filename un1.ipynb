{
  "nbformat": 4,
  "nbformat_minor": 0,
  "metadata": {
    "colab": {
      "name": "Untitled0.ipynb",
      "provenance": []
    },
    "kernelspec": {
      "name": "python3",
      "display_name": "Python 3"
    },
    "language_info": {
      "name": "python"
    }
  },
  "cells": [
    {
      "cell_type": "code",
      "metadata": {
        "colab": {
          "base_uri": "https://localhost:8080/"
        },
        "id": "BTp3YXz_ZM5p",
        "outputId": "67925651-a167-472d-9520-d6da3393c7e4"
      },
      "source": [
        "print(\"Hello daniel\")\n"
      ],
      "execution_count": null,
      "outputs": [
        {
          "output_type": "stream",
          "name": "stdout",
          "text": [
            "Hello daniel\n"
          ]
        }
      ]
    },
    {
      "cell_type": "code",
      "metadata": {
        "id": "qzdY1pLZhwec"
      },
      "source": [
        "mayor = [\"furqan\", \"ali\", 100, {\"Animal\":\"cat\"}]\n",
        "bid = [\"abid\",\"Dani\",\"Wandi\", \" Lana\"]"
      ],
      "execution_count": 19,
      "outputs": []
    },
    {
      "cell_type": "code",
      "metadata": {
        "colab": {
          "base_uri": "https://localhost:8080/",
          "height": 35
        },
        "id": "BCwdaWd2mRUz",
        "outputId": "dccf3634-11f8-4965-d69e-11c6ba1f8ea4"
      },
      "source": [
        "mayor [-1][\"Animal\"] #untuk menampilkan cat saja"
      ],
      "execution_count": 20,
      "outputs": [
        {
          "output_type": "execute_result",
          "data": {
            "application/vnd.google.colaboratory.intrinsic+json": {
              "type": "string"
            },
            "text/plain": [
              "'cat'"
            ]
          },
          "metadata": {},
          "execution_count": 20
        }
      ]
    },
    {
      "cell_type": "code",
      "metadata": {
        "colab": {
          "base_uri": "https://localhost:8080/"
        },
        "id": "NgRik5CJooSI",
        "outputId": "bfccdd39-d4f4-48c8-fb78-59c11839673d"
      },
      "source": [
        "bid[0:5] "
      ],
      "execution_count": 21,
      "outputs": [
        {
          "output_type": "execute_result",
          "data": {
            "text/plain": [
              "['abid', 'Dani', 'Wandi', ' Lana']"
            ]
          },
          "metadata": {},
          "execution_count": 21
        }
      ]
    }
  ]
}